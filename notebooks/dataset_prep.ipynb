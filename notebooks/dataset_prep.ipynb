{
 "cells": [
  {
   "cell_type": "code",
   "execution_count": 1,
   "metadata": {
    "collapsed": false
   },
   "outputs": [
    {
     "name": "stdout",
     "output_type": "stream",
     "text": [
      "hello\n"
     ]
    }
   ],
   "source": [
    "print 'hello'"
   ]
  },
  {
   "cell_type": "code",
   "execution_count": 66,
   "metadata": {
    "collapsed": true
   },
   "outputs": [],
   "source": [
    "import os\n",
    "import pickle\n",
    "import numpy as np\n",
    "import scipy"
   ]
  },
  {
   "cell_type": "code",
   "execution_count": 39,
   "metadata": {
    "collapsed": true
   },
   "outputs": [],
   "source": [
    "def load_cifar(filename):\n",
    "    with open(filename, 'rb') as f:\n",
    "        datadict = pickle.load(f)\n",
    "        \n",
    "        X = datadict['data']\n",
    "        Y = datadict['labels']\n",
    "        X = X.reshape(10000, 3, 32, 32).astype(np.uint8)\n",
    "        Y = np.array(Y, dtype=np.int64)\n",
    "        return X, Y"
   ]
  },
  {
   "cell_type": "code",
   "execution_count": 40,
   "metadata": {
    "collapsed": false
   },
   "outputs": [],
   "source": [
    "save_dir = '/mnt/D/Learning/MTSS/Sem 4/code/designing-neural-networks/data/cifar10'\n",
    "root = os.path.join(save_dir, \"cifar-10-batches-py\")\n",
    "\n",
    "# Training Data\n",
    "xs = []\n",
    "ys = []\n",
    "for b in range(1, 6):\n",
    "    f = os.path.join(root, 'data_batch_%d' % (b,))\n",
    "    x, y = load_cifar(f)\n",
    "    xs.append(x)\n",
    "    ys.append(y)\n",
    "x_train = np.concatenate(xs)\n",
    "y_train = np.concatenate(ys)\n",
    "\n",
    "# Testing data\n",
    "x_test, y_test = load_cifar(os.path.join(root, 'test_batch'))"
   ]
  },
  {
   "cell_type": "code",
   "execution_count": 45,
   "metadata": {
    "collapsed": false
   },
   "outputs": [
    {
     "data": {
      "text/plain": [
       "(1, 3, 32, 32)"
      ]
     },
     "execution_count": 45,
     "metadata": {},
     "output_type": "execute_result"
    }
   ],
   "source": [
    "x_train[:1].shape"
   ]
  },
  {
   "cell_type": "code",
   "execution_count": 97,
   "metadata": {
    "collapsed": false
   },
   "outputs": [
    {
     "name": "stdout",
     "output_type": "stream",
     "text": [
      "['data', 'labels', 'batch_label', 'filenames']\n",
      "<type 'dict'>\n",
      "<type 'numpy.ndarray'>\n",
      "(32, 32, 3)\n"
     ]
    },
    {
     "data": {
      "image/png": "[encoded data removed]",
      "text/plain": [
       "<matplotlib.figure.Figure at 0x7fa2b8ecdd90>"
      ]
     },
     "metadata": {},
     "output_type": "display_data"
    },
    {
     "name": "stdout",
     "output_type": "stream",
     "text": [
      "6\n"
     ]
    }
   ],
   "source": [
    "f = '/mnt/D/Learning/MTSS/Sem 4/code/designing-neural-networks/data/cifar10/cifar-10-batches-py/data_batch_4'\n",
    "with open(f, 'rb') as fl:\n",
    "    datadict = pickle.load(fl)\n",
    "    print datadict.keys()\n",
    "    print type(datadict)\n",
    "    print type(datadict['data'])\n",
    "    dt = datadict['data'].astype(np.float32)\n",
    "    Y = datadict['labels']\n",
    "    Y = np.array(Y, dtype=np.int64)\n",
    "    \n",
    "    dt = dt.reshape(10000, 3, 32, 32)\n",
    "    \n",
    "    data_point = dt[:1][0]\n",
    "    dp_val = Y[1]\n",
    "    \n",
    "    data_point = data_point.transpose()\n",
    "#     data_point = np.ascontiguousarray(data_point.transpose())\n",
    "    \n",
    "    print data_point.shape\n",
    "   \n",
    "#     from PIL import Image\n",
    "    import matplotlib.pyplot as plt\n",
    "    import matplotlib.image as mpimg\n",
    "    \n",
    "#     img = Image.fromarray(data_point, 'RGB')\n",
    "#     img.save('out.png')\n",
    "    \n",
    "#     img = mpimg.imread('out.png')\n",
    "#     plt.imshow(img)\n",
    "#     plt.show()\n",
    "\n",
    "    import cv2\n",
    "    \n",
    "    \n",
    "    cv2.imwrite('out.png', data_point)\n",
    "    \n",
    "    \n",
    "    img = mpimg.imread('out.png')\n",
    "    plt.imshow(img)\n",
    "    plt.show()\n",
    "    \n",
    "    print dp_val"
   ]
  },
  {
   "cell_type": "code",
   "execution_count": null,
   "metadata": {
    "collapsed": true
   },
   "outputs": [],
   "source": [
    "def load_mnist(image_fname, label_fname):\n",
    "    with open(image_fname, \"rb\") as image_file, open(label_fname, \"rb\") as label_file:\n",
    "        assert (get_int(image_file) == 2051)\n",
    "        assert (get_int(label_file) == 2049)\n",
    "\n",
    "        n_items_label = get_int(label_file)\n",
    "        n_items = get_int(image_file)\n",
    "        assert (n_items_label == n_items)\n",
    "        assert (get_int(image_file) == 28)\n",
    "        assert (get_int(image_file) == 28)\n",
    "\n",
    "        Y = []\n",
    "        X = np.zeros((n_items, 28, 28, 1), dtype=np.uint8)\n",
    "        print \"Reading [%d] items\" % n_items\n",
    "        for i in range(n_items):\n",
    "            label = get_byte(label_file)\n",
    "            assert (label <= 9)\n",
    "            assert (label >= 0)\n",
    "            Y.append(label)\n",
    "            X[i, :] = get_image(image_file)\n",
    "    return X, np.asarray(Y)"
   ]
  },
  {
   "cell_type": "code",
   "execution_count": 98,
   "metadata": {
    "collapsed": true
   },
   "outputs": [],
   "source": [
    "def get_byte(file_in):\n",
    "    int_out = ord(file_in.read(1))\n",
    "    return int_out\n",
    "\n",
    "\n",
    "def get_int(file_in):\n",
    "    int_out = struct.unpack('>i', file_in.read(4))[0]\n",
    "    return int_out\n",
    "\n",
    "\n",
    "def get_image(file_in, row=28, col=28):\n",
    "    raw_data = file_in.read(row * col)\n",
    "    out_image = np.frombuffer(raw_data, np.uint8)\n",
    "    out_image = out_image.reshape((28, 28))\n",
    "    return out_image"
   ]
  },
  {
   "cell_type": "code",
   "execution_count": 103,
   "metadata": {
    "collapsed": false
   },
   "outputs": [
    {
     "name": "stdout",
     "output_type": "stream",
     "text": [
      "Reading [2051] items\n"
     ]
    },
    {
     "ename": "ValueError",
     "evalue": "could not broadcast input array from shape (28,28) into shape (28,28,1)",
     "traceback": [
      "\u001b[0;31m\u001b[0m",
      "\u001b[0;31mValueError\u001b[0mTraceback (most recent call last)",
      "\u001b[0;32m<ipython-input-103-399db9f62411>\u001b[0m in \u001b[0;36m<module>\u001b[0;34m()\u001b[0m\n\u001b[1;32m     16\u001b[0m         \u001b[0mlabel\u001b[0m \u001b[0;34m=\u001b[0m \u001b[0mget_byte\u001b[0m\u001b[0;34m(\u001b[0m\u001b[0mlabel_file\u001b[0m\u001b[0;34m)\u001b[0m\u001b[0;34m\u001b[0m\u001b[0m\n\u001b[1;32m     17\u001b[0m         \u001b[0mY\u001b[0m\u001b[0;34m.\u001b[0m\u001b[0mappend\u001b[0m\u001b[0;34m(\u001b[0m\u001b[0mlabel\u001b[0m\u001b[0;34m)\u001b[0m\u001b[0;34m\u001b[0m\u001b[0m\n\u001b[0;32m---> 18\u001b[0;31m         \u001b[0mX\u001b[0m\u001b[0;34m[\u001b[0m\u001b[0mi\u001b[0m\u001b[0;34m,\u001b[0m \u001b[0;34m:\u001b[0m\u001b[0;34m]\u001b[0m \u001b[0;34m=\u001b[0m \u001b[0mget_image\u001b[0m\u001b[0;34m(\u001b[0m\u001b[0mimage_file\u001b[0m\u001b[0;34m)\u001b[0m\u001b[0;34m\u001b[0m\u001b[0m\n\u001b[0m\u001b[1;32m     19\u001b[0m \u001b[0;34m\u001b[0m\u001b[0m\n\u001b[1;32m     20\u001b[0m     \u001b[0;32mprint\u001b[0m \u001b[0mX\u001b[0m\u001b[0;34m.\u001b[0m\u001b[0mshape\u001b[0m\u001b[0;34m\u001b[0m\u001b[0m\n",
      "\u001b[0;31mValueError\u001b[0m: could not broadcast input array from shape (28,28) into shape (28,28,1)"
     ],
     "output_type": "error"
    }
   ],
   "source": [
    "train_dataset = '/mnt/D/Learning/MTSS/Sem 4/code/designing-neural-networks/data/mnist/train-images-idx3-ubyte'\n",
    "test_dataset = '/mnt/D/Learning/MTSS/Sem 4/code/designing-neural-networks/data/mnist/train-labels-idx1-ubyte'\n",
    "\n",
    "import struct\n",
    "\n",
    "\n",
    "\n",
    "with open(train_dataset, \"rb\") as image_file, open(test_dataset, \"rb\") as label_file:\n",
    "    n_items_label = get_int(label_file)\n",
    "    n_items = get_int(image_file)\n",
    "\n",
    "    Y = []\n",
    "    X = np.zeros((n_items, 28, 28, 1), dtype=np.uint8)\n",
    "    print \"Reading [%d] items\" % n_items\n",
    "    for i in range(n_items):\n",
    "        label = get_byte(label_file)\n",
    "        Y.append(label)\n",
    "        X[i, :] = get_image(image_file)\n",
    "\n",
    "    print X.shape"
   ]
  }
 ],
 "metadata": {
  "kernelspec": {
   "display_name": "Python 2",
   "language": "python",
   "name": "python2"
  },
  "language_info": {
   "codemirror_mode": {
    "name": "ipython",
    "version": 2.0
   },
   "file_extension": ".py",
   "mimetype": "text/x-python",
   "name": "python",
   "nbconvert_exporter": "python",
   "pygments_lexer": "ipython2",
   "version": "2.7.13"
  }
 },
 "nbformat": 4,
 "nbformat_minor": 0
}